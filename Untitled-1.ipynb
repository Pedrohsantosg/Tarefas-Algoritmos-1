{
 "cells": [
  {
   "cell_type": "markdown",
   "metadata": {},
   "source": [
    "1. Faça um Programa que peça um número e então mostre a mensagem: O número informado foi [número]."
   ]
  },
  {
   "cell_type": "code",
   "execution_count": null,
   "metadata": {},
   "outputs": [],
   "source": [
    "try:\n",
    "    num = float(input(\"Digite um número: \"))\n",
    "    print(f\"O número informado foi {num}\")\n",
    "except:\n",
    "    print(\"Não é um número\")"
   ]
  },
  {
   "cell_type": "markdown",
   "metadata": {},
   "source": [
    "2. Faça um Programa que peça dois números e imprima a soma."
   ]
  },
  {
   "cell_type": "code",
   "execution_count": null,
   "metadata": {},
   "outputs": [],
   "source": [
    "try:\n",
    "    num1 = float(input(\"Digite o primeiro número: \").replace(',', '.'))\n",
    "    num2 = float(input(\"Digite o segundo número: \").replace(',', '.'))\n",
    "\n",
    "    print(f\"A soma entre {num1} e {num2} é {num1+num2}\")\n",
    "except:\n",
    "    print(\"Não é um número\")"
   ]
  },
  {
   "cell_type": "markdown",
   "metadata": {},
   "source": [
    "3. Faça um Programa que peça as 4 notas bimestrais e mostre a média."
   ]
  },
  {
   "cell_type": "code",
   "execution_count": null,
   "metadata": {},
   "outputs": [],
   "source": [
    "try: \n",
    "    nota1 = float(input(\"Digite a primeira nota: \").replace(',', '.'))\n",
    "    if nota1 >= 0:\n",
    "        nota2 = float(input(\"Digite a segunda nota: \").replace(',', '.'))\n",
    "        if nota2 >= 0:\n",
    "            nota3 = float(input(\"Digite a terceira nota: \").replace(',', '.'))\n",
    "            if nota3 >= 0:\n",
    "                nota4 = float(input(\"Digite a quarta nota: \").replace(',', '.'))\n",
    "                if nota4 >= 0:\n",
    "                    media = (nota1+nota2+nota3+nota4)/4\n",
    "                    print(f\"Sua média é {media}\")\n",
    "                else:\n",
    "                    print(\"Essa nota não é positiva\")\n",
    "            else:\n",
    "                print(\"Essa nota não é positiva\")\n",
    "        else:\n",
    "            print(\"Essa nota não é positiva\")\n",
    "    else:\n",
    "        print(\"Essa nota não é positiva\")\n",
    "\n",
    "except:\n",
    "    print(\"Não é um número\")"
   ]
  },
  {
   "cell_type": "markdown",
   "metadata": {},
   "source": [
    "4. Faça um Programa que converta metros para centímetros."
   ]
  },
  {
   "cell_type": "code",
   "execution_count": null,
   "metadata": {},
   "outputs": [],
   "source": [
    "try:\n",
    "    metro = float(input(\"Digite uma distância em metros: \").replace(',', '.'))\n",
    "    if metro >= 0:\n",
    "        cm = metro*100\n",
    "        print(f\"Sua distância {metro}m em cm é: {cm}cm\")\n",
    "    else:\n",
    "        print(\"Essa medida não é positiva\")\n",
    "\n",
    "except:\n",
    "    print(\"Não é um número\")"
   ]
  },
  {
   "cell_type": "markdown",
   "metadata": {},
   "source": [
    "5. Faça um Programa que peça o raio de um círculo, calcule e mostre sua área."
   ]
  },
  {
   "cell_type": "code",
   "execution_count": null,
   "metadata": {},
   "outputs": [],
   "source": [
    "from math import pow, pi\n",
    "\n",
    "try:\n",
    "    raio = float(input(\"Digite um valor pra um raio: \").replace(',', '.'))\n",
    "    if raio > 0:\n",
    "        area = pi*pow(raio, 2)\n",
    "\n",
    "        print(\"A área do círculo é {:.2f}\".format(area))\n",
    "    else:\n",
    "        if raio == 0:\n",
    "            print(\"Não há área, pois o raio é igual a 0\")\n",
    "        else:\n",
    "            print(\"O raio não é positivo\")\n",
    "except:\n",
    "    print(\"Não é um número\")"
   ]
  },
  {
   "cell_type": "markdown",
   "metadata": {},
   "source": [
    "6. Faça um Programa que calcule a área de um quadrado, em seguida mostre o dobro desta área para o usuário."
   ]
  },
  {
   "cell_type": "code",
   "execution_count": null,
   "metadata": {},
   "outputs": [],
   "source": [
    "from math import pow\n",
    "\n",
    "try:\n",
    "    lado = float(input(\"Digite o lado do quadrado: \").replace(',', '.'))\n",
    "    if lado > 0:\n",
    "        area = pow(lado, 2)\n",
    "        print(f\"A área desse quadrado é {area} e o seu dobro é {2*area}\")\n",
    "    else:\n",
    "        if lado == 0:\n",
    "            print(\"Não há área, pois o lado é igual a 0\")\n",
    "        else:\n",
    "            print(\"O lado não é positivo\")\n",
    "except:\n",
    "    print(\"Não é um número\")"
   ]
  },
  {
   "cell_type": "markdown",
   "metadata": {},
   "source": [
    "7. Faça um Programa que pergunte quanto você ganha por hora e o número de horas trabalhadas no mês. Calcule e mostre o total do seu salário no referido mês."
   ]
  },
  {
   "cell_type": "code",
   "execution_count": null,
   "metadata": {},
   "outputs": [],
   "source": [
    "try:\n",
    "    lucroHora = float(input(\"Quanto você ganha por hora?: \").replace(',', '.'))\n",
    "    if lucroHora > 0:\n",
    "        horasMes = int(input(\"Quantas horas você trabalha por mês?: \"))\n",
    "        if horasMes > 0:\n",
    "            salario = lucroHora*horasMes\n",
    "            print(f\"O seu salário é de {salario}\")\n",
    "        else:\n",
    "            print('Esse valor deve ser maior que 0')\n",
    "    else:\n",
    "        print('Esse valor deve ser maior que 0')\n",
    "except:\n",
    "    print(\"Não é um número\")"
   ]
  },
  {
   "cell_type": "markdown",
   "metadata": {},
   "source": [
    "8. Faça um Programa que peça a temperatura em graus Farenheit, transforme e mostre a temperatura em graus Celsius. C = (5 * (F-32) / 9)."
   ]
  },
  {
   "cell_type": "code",
   "execution_count": null,
   "metadata": {},
   "outputs": [],
   "source": [
    "try:\n",
    "    farenheit = float(input(\"Digite uma temperatura em farenheit: \").replace(',', '.'))\n",
    "    celsius = (5/9*(farenheit-32))\n",
    "\n",
    "    print(\"A temperatura {}°F em celsius é {:.2f}°C\".format(farenheit, celsius))\n",
    "except:\n",
    "    print(\"Não é um número\")"
   ]
  },
  {
   "cell_type": "markdown",
   "metadata": {},
   "source": [
    "9. Faça um Programa que peça a temperatura em graus Celsius, transforme e mostre em graus Farenheit."
   ]
  },
  {
   "cell_type": "code",
   "execution_count": null,
   "metadata": {},
   "outputs": [],
   "source": [
    "try:\n",
    "    celsius = float(input(\"Digite uma temperatura em farenheit: \").replace(',', '.'))\n",
    "    farenheit = ((9/5*celsius)+32)\n",
    "\n",
    "    print(\"A temperatura {}°C em farenheit é {:.2f}°F\".format(celsius, farenheit))\n",
    "except:\n",
    "    print(\"Não é um número\")"
   ]
  },
  {
   "cell_type": "markdown",
   "metadata": {},
   "source": [
    "10. Elaborar um algoritmo que efetue a apresentação do valor da conversão em real (R$) de um valor lido em dólar (US$). O algoritmo deverá solicitar o valor da cotação do dólar e também a quantidade de dólares disponíveis com o usuário."
   ]
  },
  {
   "cell_type": "code",
   "execution_count": null,
   "metadata": {},
   "outputs": [],
   "source": [
    "try:\n",
    "    cotacao = float(input('Digite o valor da cotação atual: ').replace(',', '.'))\n",
    "    if cotacao > 0:\n",
    "        dolar = float(input('Digite quantos dólares você tem disponível: ').replace(',', '.'))\n",
    "        if dolar >= 0:\n",
    "            real = dolar*cotacao\n",
    "            print(f'O valor em real de {dolar} US$ é R$ {real}')\n",
    "        else:\n",
    "            print('O valor do dólar não pode ser negativo')\n",
    "    else:\n",
    "        print('Esse valor deve ser maior que 0')\n",
    "except:\n",
    "    print(\"Não é um número\")"
   ]
  },
  {
   "cell_type": "markdown",
   "metadata": {},
   "source": [
    "11. Faca um algoritmo que receba um valor que foi depositado e exiba o valor com rendimento apos um mes. Considere fixo o juro da poupanca em 0,70% a. m."
   ]
  },
  {
   "cell_type": "code",
   "execution_count": null,
   "metadata": {},
   "outputs": [],
   "source": [
    "from math import pow\n",
    "\n",
    "meses = 1\n",
    "taxa = 1.007\n",
    "\n",
    "try:\n",
    "    valor = float(input('Digite o valor inicial: ').replace(',', '.'))\n",
    "\n",
    "    #considerando uma variação em juros compostos\n",
    "    if valor > 0:\n",
    "        montante = valor * pow(taxa, meses)\n",
    "        print('Seu valor total com o rendimento foi de R${:.2f}'.format(montante))\n",
    "    else:\n",
    "        if valor == 0:\n",
    "            print('Não há rendimento, pois o capital é 0')\n",
    "        else:\n",
    "            print('Esse valor não pode ser negativo')\n",
    "except:\n",
    "    print('Não é um número')"
   ]
  },
  {
   "cell_type": "markdown",
   "metadata": {},
   "source": [
    "12. A Loja Mamao com Acucar esta vendendo seus produtos em 5 (cinco) prestacoes sem juros. Faca um algoritmo que receba um valor de uma compra e mostre o valor das prestacoes."
   ]
  },
  {
   "cell_type": "code",
   "execution_count": null,
   "metadata": {},
   "outputs": [],
   "source": [
    "try:\n",
    "    valor = float(input('Digite o valor de uma compra na Loja Mamão com Açúcar: ').replace(',', '.'))\n",
    "\n",
    "    if valor > 0:\n",
    "        prestacoes = valor/5\n",
    "        print('O valor das prestações é {:.2f}'.format(prestacoes))\n",
    "    else:\n",
    "        print('Esse valor deve ser maior que 0')\n",
    "except:\n",
    "    print('Não é um número')"
   ]
  },
  {
   "cell_type": "markdown",
   "metadata": {},
   "source": [
    "13. Faca um algoritmo que receba o preco de custo de um produto e mostre o valor de venda. Sabe-se que o preco de custo recebera um acrescimo de acordo com um percentual informado pelo usuario."
   ]
  },
  {
   "cell_type": "code",
   "execution_count": null,
   "metadata": {},
   "outputs": [],
   "source": [
    "try:\n",
    "    custo = float(input('Digite o valor de custo de uma venda: ').replace(',', '.'))\n",
    "    if custo > 0:\n",
    "        acrescimo = float(input('Digite um valor de acréscimo: %').replace(',', '.'))\n",
    "        if acrescimo > 0:\n",
    "            venda = custo * (1+(acrescimo/100))\n",
    "            print('O valor de venda do produto é {:.2f}'.format(venda))\n",
    "        else:\n",
    "            print('Esse valor deve ser maior que 0')\n",
    "    else:\n",
    "        print('Esse valor deve ser maior que 0')\n",
    "except:\n",
    "    print('Não é um número')"
   ]
  },
  {
   "cell_type": "markdown",
   "metadata": {},
   "source": [
    "14. Escrever um algoritmo para determinar o consumo medio de um automovel sendo fornecida a distancia total percorrida pelo automovel e o total de combustivel gasto."
   ]
  },
  {
   "cell_type": "code",
   "execution_count": null,
   "metadata": {},
   "outputs": [],
   "source": [
    "try:\n",
    "    deslocamento = float(input('Qual a distância percorrida pelo automóvel em Km?: ').replace(',', '.'))\n",
    "    if deslocamento > 0:\n",
    "        consumo = float(input('Qual o consumo total do automóvel em L: ').replace(',', '.'))\n",
    "        if consumo > 0:\n",
    "            media = deslocamento/consumo\n",
    "            print('O consumo médio em Km/L é de {:.2f}'.format(media))\n",
    "        else:\n",
    "            print('O consumo deve ser maior que 0 L')\n",
    "    else:\n",
    "        print('O deslocamento deve ser maior que 0 Km')\n",
    "except:\n",
    "    print('Não é um número')"
   ]
  },
  {
   "cell_type": "markdown",
   "metadata": {},
   "source": [
    "15. Escreva um programa que leia tres numeros inteiros e positivos (A, B, C) e calcule a seguinte expressao: D = (R+S)/2 onde R = (A+B)^2 e S = (B+C)^2"
   ]
  },
  {
   "cell_type": "code",
   "execution_count": null,
   "metadata": {},
   "outputs": [],
   "source": [
    "from math import pow\n",
    "\n",
    "try:\n",
    "    numA = int(input('Digite o valor de A: '))\n",
    "    if numA > 0:\n",
    "        numB = int(input('Digite o valor de B: '))\n",
    "        if numB > 0:\n",
    "            numC = int(input('Digite o valor de C: '))\n",
    "            if numC > 0:\n",
    "                numR, numS = pow((numA+numB), 2), pow((numB+numC), 2)\n",
    "                numD = (numR+numS)/2\n",
    "                print(numD)\n",
    "            else:\n",
    "                print('O valor de C deve ser inteiro e positivo')\n",
    "        else:\n",
    "            print('O valor de B deve ser inteiro e positivo')\n",
    "    else:\n",
    "        print('O valor de A deve ser inteiro e positivo')\n",
    "except:\n",
    "    print('Não é um número e inteiro')"
   ]
  },
  {
   "cell_type": "markdown",
   "metadata": {},
   "source": [
    "16. Escrever um algoritmo que leia o nome de um vendedor, o seu salário fixo e o total de vendas efetuadas por ele no mês (em dinheiro). Sabendo que este vendedor ganha 15% de comissão sobre suas vendas efetuadas, informar o seu nome, o salário fixo e salário no final do mês. \n"
   ]
  },
  {
   "cell_type": "code",
   "execution_count": null,
   "metadata": {},
   "outputs": [],
   "source": [
    "try:\n",
    "    nome = str(input('Digite o seu nome: '))\n",
    "    fixo = float(input('Qual é o valor do seu salário fixo?: ').replace(',', '.'))\n",
    "\n",
    "    if fixo > 0:\n",
    "        vendas = float(input('Qual é o valor, em dinheiro, total de vendas efetuadas por você em um mês?: ').replace(',', '.'))\n",
    "\n",
    "        if vendas > 0:\n",
    "            comissao = 15/100\n",
    "            total = fixo + vendas*(1+comissao)\n",
    "\n",
    "            print(f\"\"\"\n",
    "Nome: {nome}\n",
    "Salário fixo: {fixo}\n",
    "Salário no final do mês: {total}\n",
    "\"\"\")\n",
    "        else:\n",
    "            print('O valor das suas vendas deve ser maior que 0')\n",
    "    else:\n",
    "        print('O valor do salário deve ser maior que 0')\n",
    "except:\n",
    "    print('O tipo de informação está incorreto')"
   ]
  },
  {
   "cell_type": "markdown",
   "metadata": {},
   "source": [
    "17. Faça um Programa que peça 2 números inteiros e um número real. Calcule e mostre: a) o produto do dobro do primeiro com metade do segundo. b) a soma do triplo do primeiro com o terceiro. c) o terceiro elevado ao cubo."
   ]
  },
  {
   "cell_type": "code",
   "execution_count": null,
   "metadata": {},
   "outputs": [],
   "source": [
    "from math import pow\n",
    "\n",
    "try:\n",
    "    num1 = int(input('Digite o primeiro número inteiro: '))\n",
    "    num2 = int(input('Digite o segundo número inteiro: '))\n",
    "    num3 = float(input('Digite o número real: ').replace(',', '.'))\n",
    "\n",
    "    altA = (num1*2) * (num2/2)\n",
    "    altB = (num1*3) + num3\n",
    "    altC = pow(num3, 3)\n",
    "    print(f'\\na) {altA}\\nb) {altB}\\nc) {altC}')\n",
    "except:\n",
    "    print('Não é um valor válido')\n"
   ]
  },
  {
   "cell_type": "markdown",
   "metadata": {},
   "source": [
    "18. Tendo como dados de entrada a altura de uma pessoa, construa um algoritmo que calcule seu peso ideal, usando a seguinte fórmula: (72.7*altura) – 58."
   ]
  },
  {
   "cell_type": "code",
   "execution_count": null,
   "metadata": {},
   "outputs": [],
   "source": [
    "try:\n",
    "    altura = float(input('Digite a sua altura em metros: ').replace(',', '.'))\n",
    "    if altura > 0:\n",
    "        pesoIdeal = (72.7*altura) - 58\n",
    "        print('Seu peso ideal deve ser de {:.2f}'.format(pesoIdeal))\n",
    "    else:\n",
    "        print('Sua altura deve ser maior que 0m')\n",
    "except:\n",
    "    print('Não é um número')"
   ]
  },
  {
   "cell_type": "markdown",
   "metadata": {},
   "source": [
    "19. Faça um programa que peça o tamanho de um arquivo para download (em MB) e a velocidade de um link de Internet (em MBps), calcule e informe o tempo aproximado de download do arquivo usando este link (em minutos)."
   ]
  },
  {
   "cell_type": "code",
   "execution_count": null,
   "metadata": {},
   "outputs": [],
   "source": [
    "try:\n",
    "    tamanoarq = float(input('Digite o tamanho do arquivo para download em MB: ').replace(',', '.'))\n",
    "    if tamanoarq > 0:\n",
    "        velocidade = float(input('Digite a velocidade da sua internet em MBps: ').replace(',', '.'))\n",
    "        if velocidade > 0:\n",
    "            tempomin = int((tamanoarq/velocidade)/60)\n",
    "            temposeg = int((tamanoarq/velocidade)%60)\n",
    "\n",
    "            print(f'O tempo aproximado para download será de aproximadamente: {tempomin}min {temposeg}seg')\n",
    "        else:\n",
    "            print('A velocidade da internet deve ser maior que 0')\n",
    "    else:\n",
    "        print('O valor do tamanho do arquivo deve ser maior que 0')\n",
    "except:\n",
    "    print('Nenhum número foi informado')"
   ]
  },
  {
   "cell_type": "markdown",
   "metadata": {},
   "source": [
    "20. Ler dois valores para as variáveis A e B, e efetuar as trocas dos valores de forma que a variável A passe a possuir o valor da variável B e a variável B passe a possuir o valor da variável A. Apresentar os valores trocados."
   ]
  },
  {
   "cell_type": "code",
   "execution_count": null,
   "metadata": {},
   "outputs": [],
   "source": [
    "varA = input('Digite um valor para a variável A: ')\n",
    "varB = input('Digite um valor para a variável B: ')\n",
    "if varA != '' and varB != '':\n",
    "    varA, varB = varB, varA\n",
    "    print(f'A: {varA}\\nB: {varB}')\n",
    "else:\n",
    "    print('Não foi inserido os dois valores')"
   ]
  },
  {
   "cell_type": "markdown",
   "metadata": {},
   "source": [
    "Faça um Programa que pergunte quanto você ganha por hora e o número de horas trabalhadas no mês. Calcule e mostre o total do seu salário no referido mês, sabendo-se que são descontados 11% para o Imposto de Renda, 8% para o INSS e 5% para o sindicato, faça um programa que nos dê: a) salário bruto. b) quanto pagou ao INSS. c) quanto pagou ao sindicato. e) calcule os descontos e o salário líquido, conforme a tabela abaixo:\n",
    "\n",
    "Salário Bruto : R$\n",
    "IR (11%) : R$\n",
    "INSS (8%) : R$\n",
    "Sindicato ( 5%) : R$\n",
    "Salário Liquido : R$\n"
   ]
  },
  {
   "cell_type": "code",
   "execution_count": null,
   "metadata": {},
   "outputs": [],
   "source": [
    "try:\n",
    "    ganhoHora = float(input('Quanto você ganha por hora?: R$').replace(',', '.'))\n",
    "    if ganhoHora > 0:\n",
    "        horasmes = int(input('Quantas horas você trabalha no mês?: R$'))\n",
    "        if horasmes > 0:\n",
    "            salarioBruto = ganhoHora*horasmes\n",
    "            ir = (11/100)*salarioBruto\n",
    "            inss = (8/100)*salarioBruto\n",
    "            sindicato = (5/100)*salarioBruto\n",
    "            salarioLiquido = salarioBruto - (ir+inss+sindicato)\n",
    "\n",
    "            print(f\"\"\"\n",
    "Salário Bruto : {salarioBruto}R$\n",
    "IR (11%) : {ir}R$\n",
    "INSS (8%) : {inss}R$\n",
    "Sindicato ( 5%) : {sindicato}R$\n",
    "Salário Liquido : {salarioLiquido}R$\"\"\")\n",
    "        else:\n",
    "            print('O valor das horas deve ser maior que 0')\n",
    "    else:\n",
    "        print('O valor do lucro deve ser maior que 0')\n",
    "except:\n",
    "    print('O valor não é um número')"
   ]
  },
  {
   "cell_type": "markdown",
   "metadata": {},
   "source": [
    "22.\tFaça um Programa que peça dois números e imprima o maior deles. "
   ]
  },
  {
   "cell_type": "code",
   "execution_count": null,
   "metadata": {},
   "outputs": [],
   "source": [
    "try:\n",
    "    num1 = float(input('Digite o primeiro número: ').replace(',', '.'))\n",
    "    num2 = float(input('Digite o segundo número: ').replace(',', '.'))\n",
    "\n",
    "    if num1 > num2:\n",
    "        print(f'O maior número é {num1}')\n",
    "    else:\n",
    "        if num1 == num2:\n",
    "            print(f'Os dois números são iguais')\n",
    "        else:\n",
    "            print(f'O maior número é {num2}')\n",
    "\n",
    "except:\n",
    "    print('O valor inserido não é um número')"
   ]
  },
  {
   "cell_type": "markdown",
   "metadata": {},
   "source": [
    "23.\tFaça um Programa que peça um valor e mostre na tela se o valor é positivo ou negativo. "
   ]
  },
  {
   "cell_type": "code",
   "execution_count": null,
   "metadata": {},
   "outputs": [],
   "source": [
    "try:\n",
    "    numsinal = float(input('Digite um valor: ').replace(',', '.'))\n",
    "\n",
    "    if numsinal != 0:\n",
    "        if numsinal > 0:\n",
    "            print(f'{numsinal} é positivo')\n",
    "        else:\n",
    "            print(f'{numsinal} é negativo')\n",
    "    else:\n",
    "        print('O número não possui positivo ou negativo, pois é nulo')\n",
    "except:\n",
    "    print('O valor inserido não é um número')"
   ]
  },
  {
   "cell_type": "markdown",
   "metadata": {},
   "source": [
    "24.\tFaça um Programa que verifique se uma letra digitada é \"F\" ou \"M\". Conforme a letra escrever: F - Feminino, M - Masculino, Sexo Inválido. "
   ]
  },
  {
   "cell_type": "code",
   "execution_count": null,
   "metadata": {},
   "outputs": [],
   "source": [
    "sexo = str(input('Digite qual é o gênero \\nM- Masculino\\nF- Feminino: ').upper())\n",
    "\n",
    "if sexo == 'F':\n",
    "    print('Sexo Feminino')\n",
    "else:\n",
    "    if sexo == 'M':\n",
    "        print('Sexo Masculino')\n",
    "    else:\n",
    "        print('Sexo Inválido')"
   ]
  },
  {
   "cell_type": "markdown",
   "metadata": {},
   "source": [
    "25.\tFaça um programa para a leitura de duas notas parciais de um aluno. O programa deve calcular a média alcançada por aluno e apresentar: \n",
    "A mensagem \"Aprovado\", se a média alcançada for maior ou igual a sete; \n",
    "A mensagem \"Reprovado\", se a média for menor do que sete; \n",
    "A mensagem \"Aprovado com Distinção\", se a média for igual a dez. "
   ]
  },
  {
   "cell_type": "code",
   "execution_count": null,
   "metadata": {},
   "outputs": [],
   "source": [
    "try:\n",
    "    nota1 = float(input('Digite o valor da primeira nota: ').replace(',', '.'))\n",
    "    if nota1 >= 0 and nota1 <= 10:\n",
    "        nota2 = float(input('Digite o valor da segunda nota: ').replace(',', '.'))\n",
    "        if nota2 >= 0 and nota1 <= 10:\n",
    "            media = (nota1+nota2)/2\n",
    "\n",
    "            if media < 7:\n",
    "                print(f'Reprovado\\nMédia: {media}')\n",
    "            else:\n",
    "                if media == 10:\n",
    "                    print(f'Aprovado com Distinção\\nMédia: {media}') \n",
    "                else:\n",
    "                    print(f'Aprovado\\nMédia: {media}')\n",
    "        else:\n",
    "            print('A nota deve ser maior que 0 e menor que 10')\n",
    "    else:\n",
    "        print('A nota deve ser maior que 0 e menor que 10')\n",
    "except:\n",
    "    print('O valor inserido não é um número')"
   ]
  },
  {
   "cell_type": "markdown",
   "metadata": {},
   "source": [
    "26.\tFaça um Programa que leia três números e mostre o maior deles. "
   ]
  },
  {
   "cell_type": "code",
   "execution_count": null,
   "metadata": {},
   "outputs": [],
   "source": [
    "maior = None\n",
    "\n",
    "try:\n",
    "    num1 = float(input('Digite o primeiro número: ').replace(',', '.'))\n",
    "    num2 = float(input('Digite o segundo número: ').replace(',', '.'))\n",
    "    num3 = float(input('Digite o tereciro número: ').replace(',', '.'))\n",
    "\n",
    "    maior = num1\n",
    "    if num2 > maior:\n",
    "        maior = num2\n",
    "    if num3 > maior:\n",
    "        maior = num3\n",
    "    print(f'O maior número é {maior}')\n",
    "except:\n",
    "    print('O valor inserido não é um número')"
   ]
  },
  {
   "cell_type": "markdown",
   "metadata": {},
   "source": [
    "27.\tFaça um programa que pergunte o preço de três produtos e informe qual produto você deve comprar, sabendo que a decisão é sempre pelo mais barato. "
   ]
  },
  {
   "cell_type": "code",
   "execution_count": null,
   "metadata": {},
   "outputs": [],
   "source": [
    "menor = None\n",
    "nomeMenor = None\n",
    "\n",
    "try:\n",
    "    prod1 = float(input('Digite o primeiro produto: ').replace(',', '.'))\n",
    "    prod2 = float(input('Digite o segundo produto: ').replace(',', '.'))\n",
    "    prod3 = float(input('Digite o tereciro produto: ').replace(',', '.'))\n",
    "\n",
    "    if prod1 >= 0 and prod2 >= 0 and prod3 >= 0:     \n",
    "        menor = prod1\n",
    "        nomeMenor = 'Produto 1'\n",
    "\n",
    "        if prod2 < menor:\n",
    "            menor = prod2\n",
    "            nomeMenor = 'Produto 2'\n",
    "        if prod3 < menor:\n",
    "            menor = prod3\n",
    "            nomeMenor = 'Produto 3'\n",
    "        print(f'O produto mais indicado para se comprar é o com o preço: {nomeMenor} de R${menor}')\n",
    "    else:\n",
    "        print('Não pode haver produtos com valores negativos')\n",
    "except:\n",
    "    print('O valor inserido não é um número')"
   ]
  },
  {
   "cell_type": "markdown",
   "metadata": {},
   "source": [
    "28.\tFaça um Programa que pergunte em que turno você estuda. Peça para digitar M-matutino ou V-Vespertino ou N- Noturno. Imprima a mensagem \"Bom Dia!\", \"Boa Tarde!\" ou \"Boa Noite!\" ou \"Valor Inválido!\", conforme o caso. "
   ]
  },
  {
   "cell_type": "code",
   "execution_count": null,
   "metadata": {},
   "outputs": [],
   "source": [
    "turno = str(input('Digite qual turno você estuda:\\nM- Matutino\\nV- Vespertino\\nN- Noturno\\n').upper())\n",
    "\n",
    "if turno == 'M':\n",
    "    print('Bom dia!')\n",
    "else:\n",
    "    if turno == 'V':\n",
    "        print('Boa tarde!')\n",
    "    else:\n",
    "        if turno == 'N':\n",
    "            print('Boa noite!')\n",
    "        else:\n",
    "            print('Valor inválido')"
   ]
  },
  {
   "cell_type": "markdown",
   "metadata": {},
   "source": [
    "29.\tAs Organizações Tabajara resolveram dar um aumento de salário aos seus colaboradores e lhe contrataram para desenvolver o programa que calculará os reajustes. Faça um programa que recebe o salário de um colaborador e o reajuste segundo o seguinte critério, baseado no salário atual: \n",
    "salários até R$ 280,00 (incluindo): aumento de 20% \n",
    "salários entre R$ 280,00 e R$ 700,00: aumento de 15% \n",
    "salários entre R$ 700,00 e R$ 1500,00: aumento de 10% \n",
    "salários de R$ 1500,00 em diante: aumento de 5% Após o aumento ser realizado, informe na tela: \n",
    "o salário antes do reajuste; \n",
    "o percentual de aumento aplicado; \n",
    "o valor do aumento; \n",
    "o novo salário, após o aumento. "
   ]
  },
  {
   "cell_type": "code",
   "execution_count": null,
   "metadata": {},
   "outputs": [],
   "source": [
    "try:\n",
    "    salario = float(input('Digite o valor do seu salário').replace(',', '.'))\n",
    "    if salario > 0:\n",
    "        if salario >= 1500:\n",
    "            percAumento = 5/100\n",
    "            salarioNovo = salario * (1+percAumento)\n",
    "            print(\"\"\"\n",
    "Salário antes do reajuste: {}\n",
    "Percentual de aumento: 5%\n",
    "Valor do aumento: {:.2f}\n",
    "O novo salário: {:.2f}\"\"\".format(salario, percAumento*salario, salarioNovo))\n",
    "        else:\n",
    "            if salario >= 700 and salario < 1500:\n",
    "                percAumento = 10/100\n",
    "                salarioNovo = salario * (1+percAumento)\n",
    "                print(\"\"\"\n",
    "    Salário antes do reajuste: {}\n",
    "    Percentual de aumento: 10%\n",
    "    Valor do aumento: {:.2f}\n",
    "    O novo salário: {:.2f}\"\"\".format(salario, percAumento*salario, salarioNovo))\n",
    "            else:\n",
    "                if salario > 280 and salario < 700:\n",
    "                    percAumento = 15/100\n",
    "                    salarioNovo = salario * (1+percAumento)\n",
    "                    print(\"\"\"\n",
    "        Salário antes do reajuste: {}\n",
    "        Percentual de aumento: 15%\n",
    "        Valor do aumento: {:.2f}\n",
    "        O novo salário: {:.2f}\"\"\".format(salario, percAumento*salario, salarioNovo))\n",
    "                else:\n",
    "                    percAumento = 20/100\n",
    "                    salarioNovo = salario * (1+percAumento)\n",
    "                    print(\"\"\"\n",
    "        Salário antes do reajuste: {}\n",
    "        Percentual de aumento: 20%\n",
    "        Valor do aumento: {:.2f}\n",
    "        O novo salário: {:.2f}\"\"\".format(salario, percAumento*salario, salarioNovo))                \n",
    "    else:\n",
    "        if salario == 0:\n",
    "            print('Não houve aumento, pois não há salário')\n",
    "        else:\n",
    "            print('O valor do salário deve ser maior que 0')\n",
    "except:\n",
    "    print('O valor informado não é um número')"
   ]
  },
  {
   "cell_type": "markdown",
   "metadata": {},
   "source": [
    "30.\tFaça um programa para o cálculo de uma folha de pagamento, sabendo que os descontos são do Imposto de Renda, que depende do salário bruto (conforme tabela abaixo) e 3% para o Sindicato e que o FGTS corresponde a 11% do Salário Bruto, mas não é descontado (é a empresa que deposita). O Salário Líquido corresponde ao Salário Bruto menos os descontos. O programa deverá pedir ao usuário o valor da sua hora e a quantidade de horas trabalhadas no mês. \n",
    "Desconto do IR: \n",
    "Salário Bruto até 900 (inclusive) - isento \n",
    "Salário Bruto até 1500 (inclusive) - desconto de 5% \n",
    "Salário Bruto até 2500 (inclusive) - desconto de 10% \n",
    "Salário Bruto acima de 2500 - desconto de 20% Imprima na tela as informações, dispostas conforme o exemplo abaixo. No exemplo o valor da hora é 5 e a quantidade de hora é 220.\n",
    "i.\tSalário Bruto: (5 * 220)        : R$ 1100,00\n",
    "ii.\t(-) IR (5%)                     : R$   55,00  \n",
    "iii.\t(-) INSS ( 10%)                 : R$  110,00\n",
    "iv.\tFGTS (11%)                      : R$  121,00\n",
    "v.\tTotal de descontos              : R$  165,00\n",
    "vi.\tSalário Liquido                 : R$  935,00\n"
   ]
  },
  {
   "cell_type": "code",
   "execution_count": null,
   "metadata": {},
   "outputs": [],
   "source": [
    "try:\n",
    "    valorHora = float(input('Quanto vale sua hora de trabalho?: R$ ').replace(',', '.'))\n",
    "    \n",
    "\n",
    "    if valorHora > 0:\n",
    "        mesHora = int(input('Quantas horas você trabalha no mês?: '))\n",
    "        if mesHora > 0:\n",
    "            salarioBruto = valorHora*mesHora\n",
    "\n",
    "            fgts = (11/100)*salarioBruto\n",
    "            sindicato = (3/100)*salarioBruto\n",
    "            if salarioBruto <= 900:\n",
    "                impostoRenda = 0\n",
    "            else:\n",
    "                if salarioBruto > 900 and salarioBruto <= 1500:\n",
    "                    impostoRenda = 5/100\n",
    "                else:\n",
    "                    if salarioBruto > 1500 and salarioBruto <= 2500:\n",
    "                        impostoRenda = 10/100\n",
    "                    else:\n",
    "                        impostoRenda = 20/100\n",
    "            totalDescontos = sindicato + (impostoRenda*salarioBruto)\n",
    "            salarioLiquido = salarioBruto - totalDescontos\n",
    "            \n",
    "            print(f\"\"\"\n",
    "i. Salário Bruto: ({valorHora} * {mesHora}) : R$ {salarioBruto}\n",
    "ii. (-) IR ({impostoRenda*100}%) : R$ {(impostoRenda*salarioBruto):.2f}\n",
    "iii. (-) Sindicato (3%) : R$ {(sindicato):.2f}\n",
    "iv. FGTS (11%) : R$ {(fgts):.2f}\n",
    "v. Total de descontos : R$ {totalDescontos:.2f}\n",
    "vi. Salário Liquido : R$ {salarioLiquido:.2f}\"\"\")\n",
    "        else:\n",
    "            print('A quantidade de horas trabalhadas deve ser maior que 0')\n",
    "    else:\n",
    "        print('O valor da sua hora deve ser maior que 0')\n",
    "except:\n",
    "    print('Valor inválido')"
   ]
  },
  {
   "cell_type": "markdown",
   "metadata": {},
   "source": [
    "31.\tFaça um Programa que leia um número e exiba o dia correspondente da semana. (1-Domingo, 2- Segunda, etc.), se digitar outro valor deve aparecer valor inválido.  "
   ]
  },
  {
   "cell_type": "code",
   "execution_count": null,
   "metadata": {},
   "outputs": [],
   "source": [
    "dia = str(input('Digite o dia:\\n1- Domingo\\n2- Segunda\\n3 - Terça\\n4- Quarta\\n5- Quinta\\n6- Sexta\\n7- Sábado'))\n",
    "\n",
    "if dia == '1' or dia == '2' or dia == '3' or dia == '4' or dia == '5' or dia == '6' or dia == '7':\n",
    "    if dia == '1':\n",
    "        print('Domingo')\n",
    "    elif dia == '2':\n",
    "        print('Segunda')\n",
    "    elif dia == '3':\n",
    "        print('Terça')\n",
    "    elif dia == '4':\n",
    "        print('Quarta')\n",
    "    elif dia == '5':\n",
    "        print('Quinta')\n",
    "    elif dia == '6':\n",
    "        print('Sexta')\n",
    "    elif dia == '7':\n",
    "        print('Sábado')\n",
    "else:\n",
    "    print('Valor inválido')"
   ]
  },
  {
   "cell_type": "markdown",
   "metadata": {},
   "source": [
    "32.\tFaça um programa que lê as duas notas parciais obtidas por um aluno numa disciplina ao longo de um semestre, e calcule a sua média. A atribuição de conceitos obedece à tabela abaixo: \n",
    "Média de Aproveitamento  Conceito\n",
    "Entre 9.0 e 10.0       A\n",
    "Entre 7.5 e 9.0         B\n",
    "Entre 6.0 e 7.5         C\n",
    "Entre 4.0 e 6.0         D\n",
    "Entre 4.0 e zero       E\n",
    "O algoritmo deve mostrar na tela as notas, a média, o conceito correspondente e a mensagem “APROVADO” se o conceito for A, B ou C ou “REPROVADO” se o conceito for D ou E. \n"
   ]
  },
  {
   "cell_type": "code",
   "execution_count": null,
   "metadata": {},
   "outputs": [],
   "source": [
    "try:\n",
    "    nota1 = float(input('Digite a primeira nota: ').replace(',', '.'))\n",
    "    nota2 = float(input('Digite a primeira nota: ').replace(',', '.'))\n",
    "\n",
    "    if nota1 >= 0 and nota1 <= 10 and nota2 >=0 and nota2 <= 10:\n",
    "        media = (nota1+nota2)/2\n",
    "        if media > 9:\n",
    "            print(f\"\"\"\n",
    "    Notas: Primeira nota: {nota1}, Segunda nota: {nota2}\n",
    "    Média = {media}\n",
    "    Conceito: A\n",
    "    Situação: Aprovado\"\"\")\n",
    "        else:\n",
    "            if media > 7.5 and media <= 9:\n",
    "                print(f\"\"\"\n",
    "        Notas: Primeira nota: {nota1}, Segunda nota: {nota2}\n",
    "        Média = {media}\n",
    "        Conceito: B\n",
    "        Situação: Aprovado\"\"\")\n",
    "            else:\n",
    "                if media > 6 and media <= 7.5:\n",
    "                    print(f\"\"\"\n",
    "            Notas: Primeira nota: {nota1}, Segunda nota: {nota2}\n",
    "            Média = {media}\n",
    "            Conceito: C\n",
    "            Situação: Aprovado\"\"\")\n",
    "                else:\n",
    "                    if media > 4 and media <= 6:\n",
    "                        print(f\"\"\"\n",
    "                Notas: Primeira nota: {nota1}, Segunda nota: {nota2}\n",
    "                Média = {media}\n",
    "                Conceito: D\n",
    "                Situação: Reprovado\"\"\")\n",
    "                    else:\n",
    "                        print(f\"\"\"\n",
    "                Notas: Primeira nota: {nota1}, Segunda nota: {nota2}\n",
    "                Média = {media}\n",
    "                Conceito: E\n",
    "                Situação: Reprovado\"\"\")\n",
    "    else:\n",
    "        print('As notas indicadas devem estar entre 0 e 10')\n",
    "except:\n",
    "    print('O valor indicado não é um número')"
   ]
  },
  {
   "cell_type": "markdown",
   "metadata": {},
   "source": [
    "33.\tFaça um Programa que peça os 3 lados de um triângulo. O programa deverá informar se os valores podem ser um triângulo. Indique, caso os lados formem um triângulo, se o mesmo é: equilátero, isósceles ou escaleno\n",
    "Dicas: Três lados formam um triângulo quando a soma de quaisquer dois lados for maior que o terceiro; Triângulo Equilátero: três lados iguais; Triângulo isósceles: quaisquer dois lados iguais; Triângulo Escaleno: três lados diferentes"
   ]
  },
  {
   "cell_type": "code",
   "execution_count": null,
   "metadata": {},
   "outputs": [],
   "source": [
    "try:\n",
    "    lado1 = float(input('Digite o valor da medida de um lado do triângulo: ').replace(',', '.'))\n",
    "    lado2 = float(input('Digite o valor da medida de um segundo lado do triângulo: ').replace(',', '.'))\n",
    "    lado3 = float(input('Digite o valor da medida de um tereciro lado do triângulo: ').replace(',', '.'))\n",
    "    condicao = lado1+lado2 > lado3 and lado1+lado3 > lado2 and lado2+lado3 > lado1\n",
    "\n",
    "    if condicao == True:\n",
    "        if lado1 == lado2 and lado1 == lado3:\n",
    "            print('Triângulo equilátero')\n",
    "        else:\n",
    "            if lado1 == lado2 or lado1 == lado3 or lado2 == lado3:\n",
    "                print('Triângulo isósceles')\n",
    "            else:\n",
    "                print('Triângulo escaleno')\n",
    "    else:\n",
    "        print('Não é possível formar um triângulo com esses lados')\n",
    "except:\n",
    "    print('O valor indicado não é um número')"
   ]
  },
  {
   "cell_type": "markdown",
   "metadata": {},
   "source": [
    "34.\tFaça um programa que calcule as raízes de uma equação do segundo grau, na forma ax2 + bx + c. O programa deverá pedir os valores de a, b e c e fazer as consistências, informando ao usuário nas seguintes situações: \n",
    "Se o usuário informar o valor de A igual a zero, a equação não é do segundo grau e o programa não deve fazer pedir os demais valores, sendo encerrado; \n",
    "Se o delta calculado for negativo, a equação não possui raizes reais. Informe ao usuáro e encerre o programa; Se o delta calculado for igual a zero a equação possui apenas uma raiz real; informe-a ao usuário; \n",
    "Se o delta for positivo, a equação possui duas raiz reais; informe-as ao usuário; "
   ]
  },
  {
   "cell_type": "code",
   "execution_count": null,
   "metadata": {},
   "outputs": [],
   "source": [
    "from math import pow, sqrt\n",
    "\n",
    "try:\n",
    "    valorA = float(input('Digite o valor de \"a\" numa função do segundo grau\\nf(x) = aX^2+bx+c: '))\n",
    "    if valorA != 0:\n",
    "        valorB = float(input('Digite o valor de \"b\"' ))\n",
    "        valorC = float(input('Digite o valor de \"c\"' ))\n",
    "        delta = pow(valorB, 2) - (4*valorA*valorC)\n",
    "        print(delta)\n",
    "        if delta >= 0:\n",
    "            determinantePos = (-(valorB) + sqrt(delta))/(2*valorA)\n",
    "            determinanteNeg = (-(valorB) - sqrt(delta))/(2*valorA)\n",
    "            if delta == 0:\n",
    "                print('As duas raízes da função possuem o mesmo valor, sendo ele {:.2f}'.format(determinantePos))\n",
    "            else: \n",
    "                print('As duas raízes da função são\\n1° Raíz: {:.2f}\\n2° Raíz: {:.2f}'.format(determinantePos, determinanteNeg))\n",
    "        else:\n",
    "            print('Delta é negativo, logo a equação não possui raizes reais')\n",
    "    else:\n",
    "        print('A equação não é do segundo grau')\n",
    "except:\n",
    "    print('O valor indicado não é um número')"
   ]
  },
  {
   "cell_type": "markdown",
   "metadata": {},
   "source": [
    "36.\tFaça um Programa que peça um número correspondente a um determinado ano e em seguida informe se este ano é ou não bissexto. "
   ]
  },
  {
   "cell_type": "code",
   "execution_count": null,
   "metadata": {},
   "outputs": [],
   "source": [
    "try:\n",
    "    ano = int(input('Digite um ano: '))\n",
    "    if ano % 4 == 0:\n",
    "        if ano % 100 == 0:\n",
    "            if ano % 400 == 0:\n",
    "                print('O ano é bissexto')\n",
    "            else:\n",
    "                print('O ano não é bissexto')\n",
    "        else:\n",
    "            print('O ano é bissexto')\n",
    "    else:\n",
    "        print('Não é bissexto')\n",
    "except:\n",
    "    print('Esse valor não pode ser um ano')"
   ]
  },
  {
   "cell_type": "markdown",
   "metadata": {},
   "source": [
    "37.\tFaça um Programa para leitura de três notas parciais de um aluno. O programa deve calcular a média alcançada por aluno e apresentar: \n",
    "A mensagem \"Aprovado\", se a média for maior ou igual a 7, com a respectiva média alcançada; \n",
    "A mensagem \"Reprovado\", se a média for menor do que 7, com a respectiva média alcançada; \n",
    "A mensagem \"Aprovado com Distinção\", se a média for igual a 10. \n"
   ]
  },
  {
   "cell_type": "code",
   "execution_count": null,
   "metadata": {},
   "outputs": [],
   "source": [
    "try:\n",
    "    nota1 = float(input('Digite o valor da primeira nota: ').replace(',', '.'))\n",
    "    if nota1 >= 0 and nota1 <= 10:\n",
    "        nota2 = float(input('Digite o valor da segunda nota: ').replace(',', '.'))\n",
    "        if nota2 >= 0 and nota1 <= 10:\n",
    "            nota3 = float(input('Digite o valor da terceira nota: ').replace(',', '.'))\n",
    "            if nota3 >= 0 and nota3 <= 10:\n",
    "                media = (nota1+nota2+nota3)/3\n",
    "\n",
    "                if media < 7:\n",
    "                    print('Reprovado\\nMédia: {:.2f}'.format(media))\n",
    "                else:\n",
    "                    if media == 10:\n",
    "                        print('Aprovado com Distinção\\nMédia: {:.2f}'.format(media)) \n",
    "                    else:\n",
    "                        print('Aprovado\\nMédia: {:.2f}'.format(media))\n",
    "            else:\n",
    "                print('A nota deve ser maior que 0 e menor que 10')\n",
    "        else:\n",
    "            print('A nota deve ser maior que 0 e menor que 10')\n",
    "    else:\n",
    "        print('A nota deve ser maior que 0 e menor que 10')\n",
    "except:\n",
    "    print('O valor inserido não é um número')"
   ]
  },
  {
   "cell_type": "markdown",
   "metadata": {},
   "source": [
    "38.\tFaça um Programa para um caixa eletrônico. O programa deverá perguntar ao usuário a valor do saque e depois informar quantas notas de cada valor serão fornecidas. As notas disponíveis serão as de 1, 5, 10, 50 e 100 reais. O valor mínimo é de 10 reais e o máximo de 600 reais. O programa não deve se preocupar com a quantidade de notas existentes na máquina. \n",
    "Exemplo 1: Para sacar a quantia de 256 reais, o programa fornece duas notas de 100, uma nota de 50, uma nota de 5 e uma nota de 1; \n",
    "Exemplo 2: Para sacar a quantia de 399 reais, o programa fornece três notas de 100, uma nota de 50, quatro notas de 10, uma nota de 5 e quatro notas de 1. \n"
   ]
  },
  {
   "cell_type": "code",
   "execution_count": null,
   "metadata": {},
   "outputs": [],
   "source": [
    "try:\n",
    "\n",
    "    valorSaque = int(input('Digite o valor do saque (Mínimo: R$10 Máximo: R$600)\\nNotas disponíveis: R$1,00 R$5,00 R$10,00 R$50,00 R$100,00'))\n",
    "    if valorSaque >=10 and valorSaque <= 600:\n",
    "        msg = f'Para sacar a quantia de R${valorSaque}, o programa fornece '\n",
    "        valorInicial = valorSaque\n",
    "\n",
    "        notas100 = valorSaque//100\n",
    "        if notas100 != 0:\n",
    "            msg += f'{notas100} notas de R$100'\n",
    "        valorSaque -= notas100*100\n",
    "\n",
    "        notas50 = valorSaque//50\n",
    "        if notas50 != 0:\n",
    "            msg += f', {notas50} notas de R$50'\n",
    "        valorSaque -= notas50*50\n",
    "\n",
    "        notas10 = valorSaque//10\n",
    "        if notas10 != 0:\n",
    "            msg += f', {notas10} notas de R$10'\n",
    "        valorSaque -= notas10*10\n",
    "\n",
    "        notas5 = valorSaque//5\n",
    "        if notas5 != 0:\n",
    "            msg += f', {notas5} notas de R$5'\n",
    "        valorSaque -= notas5*5\n",
    "\n",
    "        notas1 = valorSaque\n",
    "        if notas1 != 0:\n",
    "            msg += f', {notas1} notas de R$1'\n",
    "        print(msg)\n",
    "    else:\n",
    "        print('Só é aceito valores entre 10 e 600')\n",
    "except:\n",
    "    print('Só é possível realizar o saque com valores numéricos inteiros')"
   ]
  },
  {
   "cell_type": "markdown",
   "metadata": {},
   "source": [
    "39.\tFaça um Programa que peça um número inteiro e determine se ele é par ou impar. "
   ]
  },
  {
   "cell_type": "code",
   "execution_count": null,
   "metadata": {},
   "outputs": [],
   "source": [
    "try:\n",
    "    num = int(input('Digite um número inteiro: '))\n",
    "    if num > 0:\n",
    "        if num % 2 == 0:\n",
    "            print('O número é par')\n",
    "        else:\n",
    "            print('O número é impar')\n",
    "    else:\n",
    "        print('O número deve ser maior que 0')\n",
    "except:\n",
    "    print('O valor inserido não é um número e inteiro')"
   ]
  },
  {
   "cell_type": "markdown",
   "metadata": {},
   "source": [
    "40.\tFaça um Programa que leia 2 números e em seguida pergunte ao usuário qual operação ele deseja realizar. O resultado da operação deve ser acompanhado de uma frase que diga se o número é: \n",
    "par ou ímpar; \n",
    "positivo ou negativo; \n",
    "inteiro ou decimal. "
   ]
  },
  {
   "cell_type": "code",
   "execution_count": null,
   "metadata": {},
   "outputs": [],
   "source": [
    "from math import pow\n",
    "\n",
    "try:\n",
    "    num1 = float(input('Digite o primeiro número: ').replace(',', '.'))\n",
    "    num2 = float(input('Digite o segundo número: ').replace(',', '.'))\n",
    "    resultado = None\n",
    "\n",
    "\n",
    "    operacao = str(input(\"\"\"\n",
    "    Digite qual operação você deseja realizar com esses números:\n",
    "    \\nA- Adição\\nS- Subtração\\nD- Divisão\\nM- Multiplicação\\nP- Potência\\nR- Raíz enésima\\n\"\"\").upper())\n",
    "    if operacao == 'A' or operacao == 'S' or operacao == 'D' or operacao == 'M' or operacao == 'P' or operacao == 'R':\n",
    "        if operacao == 'A':\n",
    "            resultado = num1+num2\n",
    "        else:\n",
    "            if operacao == 'S':\n",
    "                resultado = num1-num2\n",
    "            else:\n",
    "                if operacao == 'D':\n",
    "                    if num1 == 0 and num2 == 0:\n",
    "                        print('Indefinição')\n",
    "                    else:\n",
    "                        resultado = num1/num2\n",
    "                else:\n",
    "                    if operacao == 'M':\n",
    "                        resultado = num1*num2\n",
    "                    else:\n",
    "                        if operacao == 'P':\n",
    "                            if num1 == 0 and num2 == 0:\n",
    "                                print('Indefinição')\n",
    "                            else:\n",
    "                                resultado = pow(num1, num2)\n",
    "                        else:\n",
    "                            if num1 == 0 and num2 == 0:\n",
    "                                print('Indefinição')\n",
    "                            else:\n",
    "                                resultado = num1**(1/num2)\n",
    "\n",
    "                        \n",
    "    else:\n",
    "        print('Não existe essa alternativa')\n",
    "\n",
    "    if resultado != 0:\n",
    "        if resultado % 2 == 0:\n",
    "            parouimpar = 'par'\n",
    "        else:\n",
    "            parouimpar = 'impar'\n",
    "        if resultado < 0:\n",
    "            posouneg = 'negativo'\n",
    "        else:\n",
    "            posouneg = 'positivo'\n",
    "        if resultado - int(resultado) != 0:\n",
    "            intoudec = 'decimal'\n",
    "        else:\n",
    "            intoudec = 'inteiro'\n",
    "        print(f'O resultado {resultado} é um número {intoudec}, {posouneg}, {parouimpar}')\n",
    "    else:\n",
    "        print(f'O resultado {resultado} é nulo')\n",
    "\n",
    "except TypeError:\n",
    "    print('Não é possível fazer operações com números complexos ou indefinições')\n",
    "except ValueError:\n",
    "    print('O valor inserido é inválido')"
   ]
  },
  {
   "cell_type": "markdown",
   "metadata": {},
   "source": [
    "41.\tFaça um programa que faça 5 perguntas para uma pessoa sobre um crime. As perguntas são: \n",
    "\"Telefonou para a vítima?\" \n",
    "\"Esteve no local do crime?\" \n",
    "\"Mora perto da vítima?\" \n",
    "\"Devia para a vítima?\" \n",
    "\"Já trabalhou com a vítima?\" O programa deve no final emitir uma classificação sobre a participação da pessoa no crime. Se a pessoa responder positivamente a 2 questões ela deve ser classificada como \"Suspeita\", entre 3 e 4 como \"Cúmplice\" e 5 como \"Assassino\". Caso contrário, ele será classificado como \"Inocente\". \n"
   ]
  },
  {
   "cell_type": "code",
   "execution_count": null,
   "metadata": {},
   "outputs": [],
   "source": [
    "try:\n",
    "    resultado = 0\n",
    "    pergunta1 = int(input('Telefonou para a vítima?\\n1: Sim\\n0: Não\\n'))\n",
    "    if pergunta1 != 0 and pergunta1 != 1:\n",
    "        print('Escolha inválida')\n",
    "    else:\n",
    "        resultado += pergunta1\n",
    "        pergunta2 = int(input('Esteve no local do crime?\\n1: Sim\\n0: Não\\n'))\n",
    "        if pergunta2 != 0 and pergunta2 != 1:\n",
    "            print('Escolha inválida')\n",
    "        else:\n",
    "            resultado += pergunta2\n",
    "            pergunta3 = int(input('Mora perto da vítima?\\n1: Sim\\n0: Não\\n'))\n",
    "            if pergunta3 != 0 and pergunta3 != 1:\n",
    "                print('Escolha inválida')\n",
    "            else:\n",
    "                resultado += pergunta3\n",
    "                pergunta4 = int(input('Devia para a vítima?\\n1: Sim\\n0: Não\\n'))\n",
    "                if pergunta4 != 0 and pergunta4 != 1:\n",
    "                    print('Escolha inválida')\n",
    "                else:\n",
    "                    resultado += pergunta4\n",
    "                    pergunta5 = int(input('Já trabalhou com a vítima?\\n1: Sim\\n0: Não\\n'))\n",
    "                    if pergunta5 != 0 and pergunta5 != 1:\n",
    "                        print('Escolha inválida')\n",
    "                    else:\n",
    "                        resultado += pergunta5\n",
    "\n",
    "                    if resultado == 5:\n",
    "                        print('Assassino')\n",
    "                    else:\n",
    "                        if resultado >= 3:\n",
    "                            print('Cúmplice')\n",
    "                        else:\n",
    "                            if resultado >= 2:\n",
    "                                print('Suspeito')\n",
    "                            else:\n",
    "                                print('Inocente')\n",
    "except:\n",
    "    print('Valor inválido')"
   ]
  },
  {
   "cell_type": "markdown",
   "metadata": {},
   "source": [
    "42.\tUm posto está vendendo combustíveis com a seguinte tabela de descontos: \n",
    "Álcool: \n",
    "até 20 litros, desconto de 3% por litro \n",
    "acima de 20 litros, desconto de 5% por litro \n",
    "Gasolina: \n",
    "até 20 litros, desconto de 4% por litro \n",
    "acima de 20 litros, desconto de 6% por litro.\n",
    "Escreva um programa que leia o número de litros vendidos, o tipo de combustível (codificado da seguinte forma: A-álcool, G-gasolina), calcule e imprima o valor a ser pago pelo cliente sabendo-se que o preço do litro da gasolina é R$ 2,50 o preço do litro do álcool é R$ 1,90. \n"
   ]
  },
  {
   "cell_type": "code",
   "execution_count": null,
   "metadata": {},
   "outputs": [],
   "source": [
    "valorAlcool = 1.9\n",
    "valorGasolina = 2.5\n",
    "\n",
    "try:\n",
    "    tipo = str(input('Qual o tipo de combustível?:\\nG- Gasolina\\n A- Álcool').upper())\n",
    "    if tipo != 'A' and tipo != 'G':\n",
    "        print('Escolha inválida')\n",
    "    else:\n",
    "        litro = float(input('Quantos litros irá comprar?: ').replace(',', '.'))\n",
    "        if litro > 0:\n",
    "            if tipo == 'A':\n",
    "                if litro > 20:\n",
    "                    valorFinal = litro*valorAlcool*0.95\n",
    "                else:\n",
    "                    valorFinal = litro*valorAlcool*0.97\n",
    "                print('{:.2f}L de álcool deu R${:.2f}'.format(litro, valorFinal))\n",
    "            else:\n",
    "                if litro > 20:\n",
    "                    valorFinal = litro*valorGasolina*0.94\n",
    "                else:\n",
    "                    valorFinal = litro*valorGasolina*0.96\n",
    "                print('{:.2f}L de gasolina deu R${:.2f}'.format(litro, valorFinal))\n",
    "        else:\n",
    "            print('Só pode fazer a compra com valores maiores que 0L')\n",
    "except:\n",
    "    print('Valor inválido')"
   ]
  },
  {
   "cell_type": "markdown",
   "metadata": {},
   "source": [
    "43.\tUma fruteira está vendendo frutas com a seguinte tabela de preços: \n",
    "                    Até 5 Kg           Acima de 5 Kg \n",
    "Morango         R$ 2,50 por Kg          R$ 2,20 por Kg\n",
    "Maçã            R$ 1,80 por Kg          R$ 1,50 por Kg\n",
    "Se o cliente comprar mais de 8 Kg em frutas ou o valor total da compra ultrapassar R$ 25,00, receberá ainda um desconto de 10% sobre este total. Escreva um algoritmo para ler a quantidade (em Kg) de morangos e a quantidade (em Kg) de maças adquiridas e escreva o valor a ser pago pelo cliente.\n"
   ]
  },
  {
   "cell_type": "code",
   "execution_count": null,
   "metadata": {},
   "outputs": [],
   "source": [
    "try:\n",
    "    precoMorangoI = 2.5\n",
    "    precoMorangoII = 2.2\n",
    "    precoMacaI = 1.8\n",
    "    precoMacaII = 1.5\n",
    "    valorTotal = 0\n",
    "\n",
    "    qMaca = float(input('Digite a quantidade -em Kg- de maçãs que você deseja: ').replace(',', '.'))\n",
    "    qMorango = float(input('Digite a quantidade -em Kg- de morangos que você deseja: ').replace(',', '.'))\n",
    "    qTotal = qMaca+qMorango\n",
    "\n",
    "    if qMaca >= 0 and qMorango >= 0:\n",
    "        if qMaca <= 5:\n",
    "            valorTotal += qMaca*precoMacaI\n",
    "        else:\n",
    "            valorTotal += qMaca*precoMacaII\n",
    "\n",
    "        if qMorango <= 5:\n",
    "            valorTotal += qMorango*precoMorangoI\n",
    "        else:\n",
    "            valorTotal += qMorango*precoMorangoII\n",
    "    else:\n",
    "        print('Os pesos não podem atribuir valores negativos')\n",
    "\n",
    "    if valorTotal > 25 or  qTotal > 8:\n",
    "        valorTotal = 0.9*valorTotal\n",
    "\n",
    "    print('O valor a ser pago é R${:.2f}'.format(valorTotal))\n",
    "\n",
    "except:\n",
    "    print('O valor inserido não é um número')"
   ]
  },
  {
   "cell_type": "markdown",
   "metadata": {},
   "source": [
    "44.\tElabore um algoritmo que dada a idade de um nadador classifica-o em uma das seguintes categorias:  infantil A = 5 - 7 anos; infantil B = 8-10 anos; juvenil A = 11-13 anos; juvenil B = 14-17 anos; adulto = maiores de 18 anos."
   ]
  },
  {
   "cell_type": "code",
   "execution_count": null,
   "metadata": {},
   "outputs": [],
   "source": [
    "try:\n",
    "    idade = int(input('Digite a idade do nadador: '))\n",
    "\n",
    "    if idade > 0:\n",
    "        if idade >= 5 and idade <= 7:\n",
    "            print('Categoria: Infantil A')\n",
    "        else:\n",
    "            if idade >= 8 and idade <= 10:\n",
    "                print('Categoria: Infantil B')\n",
    "            else:\n",
    "                if idade >= 11 and idade <= 13:\n",
    "                    print('Categoria: Juvenil A')\n",
    "                else:\n",
    "                    if idade >= 14 and idade <= 17:\n",
    "                        print('Categoria: Juvenil B')\n",
    "                    else:\n",
    "                        print('Categoria: Adulto')\n",
    "    else:\n",
    "        print('O valor deve ser maior que 0')\n",
    "except:\n",
    "    print('Esse valor não pode ser atribuída a uma idade')"
   ]
  },
  {
   "cell_type": "markdown",
   "metadata": {},
   "source": [
    "45.\tTendo como dados de entrada a altura e o sexo de uma pessoa, construa um algoritmo que calcule seu peso ideal, utilizando as seguintes fórmulas: para homens: (72.7*h) – 58 e para mulheres: (62.1*h) - 44.7 (h = altura)"
   ]
  },
  {
   "cell_type": "code",
   "execution_count": null,
   "metadata": {},
   "outputs": [],
   "source": [
    "try:\n",
    "    altura = float(input('Digite a sua altura -em metros-').replace(',', '.'))\n",
    "    sexo = str(input('Escreva qual é o seu sexo:\\nM- Mulher\\nH- Homem').upper())\n",
    "\n",
    "    condicaoHomem = (72.7*altura) - 58\n",
    "    condicaoMulher = (62.1*altura) - 44.7\n",
    "\n",
    "    if sexo == 'M' or sexo == 'H':\n",
    "        if altura > 0:\n",
    "            if sexo == 'M':\n",
    "                print('Seu peso ideal deve ser: {:.2f}'.format(condicaoMulher))\n",
    "            else:\n",
    "                print('Seu peso ideal deve ser {:.2f}'.format(condicaoHomem))\n",
    "        else:\n",
    "            print('O valor da altura deve ser maior que 0')\n",
    "    else:\n",
    "        print('Opção de sexo inválida')\n",
    "except:\n",
    "    print('Valor inválido')"
   ]
  },
  {
   "cell_type": "markdown",
   "metadata": {},
   "source": [
    "46. Escreva um programa que calcula a média de 30 alunos e informa a situação (reprovado, aprovado ou recuperação)."
   ]
  },
  {
   "cell_type": "code",
   "execution_count": null,
   "metadata": {},
   "outputs": [],
   "source": [
    "for i in range(0, 3):\n",
    "    while True:\n",
    "        media = -1\n",
    "\n",
    "        try:\n",
    "            nota1 = float(input(f'Digite a primeira nota do aluno {i+1}: ').replace(',', '.').strip())\n",
    "            if nota1 >= 0:\n",
    "                nota2 = float(input(f'Digite a segunda nota do aluno {i+1}: ').replace(',', '.').strip())\n",
    "                if nota2 >= 0:\n",
    "                    media = (nota1+nota2)/2\n",
    "                else:\n",
    "                    print('A nota do aluno deve ser maior que 0')\n",
    "            else:\n",
    "                print('A nota do aluno deve ser maior que 0')\n",
    "        except:\n",
    "            print('O valor não é um número')\n",
    "        else:\n",
    "            if media >= 0:\n",
    "                print(f'A média do aluno {i+1} é {media:.2f}')\n",
    "                break"
   ]
  },
  {
   "cell_type": "markdown",
   "metadata": {},
   "source": [
    "47. Escreva um programa que leia 10 números e informe o maior e o menor número."
   ]
  },
  {
   "cell_type": "code",
   "execution_count": null,
   "metadata": {},
   "outputs": [],
   "source": [
    "for i in range(0, 3):\n",
    "    while True:\n",
    "        try:\n",
    "            num = float(input(f'Digite um número {i+1}: ').replace(',', '.').strip())\n",
    "        except:\n",
    "            print('O valor informado não é válido')\n",
    "        else:\n",
    "            if i == 0:\n",
    "                maior = num\n",
    "                break\n",
    "            else:\n",
    "                if num > maior:\n",
    "                    maior = num\n",
    "                    break\n",
    "                else:\n",
    "                    break\n",
    "\n",
    "print(f'O maior número foi: {maior}')"
   ]
  },
  {
   "cell_type": "markdown",
   "metadata": {},
   "source": [
    "48. Escreva um programa que calcula o fatorial de um dado número N."
   ]
  },
  {
   "cell_type": "code",
   "execution_count": null,
   "metadata": {},
   "outputs": [],
   "source": [
    "while True:\n",
    "    try:\n",
    "        fat = int(input('Digite um número inteiro para ser calculado seu fatorial: '))\n",
    "    except:\n",
    "        print('Esse não é um número e inteiro')\n",
    "    else:\n",
    "        if fat >= 0:   \n",
    "            resultado = 1\n",
    "            for i in range(fat, 0, -1):\n",
    "                resultado *= i\n",
    "            break\n",
    "        else:\n",
    "            if fat < 0:\n",
    "                print('Não existe fatorial de número negativo. Tente novamente')\n",
    "\n",
    "print(f'O fatorial de {fat} é {resultado}')"
   ]
  },
  {
   "cell_type": "markdown",
   "metadata": {},
   "source": [
    "49. Faça um programa para somar os números pares positivos < 1000 e ao final escrever o resultado."
   ]
  },
  {
   "cell_type": "code",
   "execution_count": null,
   "metadata": {},
   "outputs": [],
   "source": [
    "soma = 0\n",
    "\n",
    "while True:\n",
    "    try:\n",
    "        numSoma = int(input('Escreva um número inteiro menor que 1000 e maior que 0: ').strip())\n",
    "    except:\n",
    "        print('Esse não é um número e inteiro')\n",
    "    else:\n",
    "        if numSoma > 0:\n",
    "            if numSoma < 1000:\n",
    "                for i in range(0, numSoma + 1):\n",
    "                    if i % 2 == 0:    \n",
    "                        soma += i\n",
    "                print(f'A soma dos pares entre 0 e {numSoma} é: {soma}')\n",
    "                break\n",
    "            else:\n",
    "                print('Esse número deve ser menor que 1000')\n",
    "        else:\n",
    "            print('Esse número deve ser maior que 0')"
   ]
  },
  {
   "cell_type": "markdown",
   "metadata": {},
   "source": [
    "50. Faça um programa para calcular a área de N quadriláteros. Fórmula: Área = Lado * Lado."
   ]
  },
  {
   "cell_type": "code",
   "execution_count": null,
   "metadata": {},
   "outputs": [],
   "source": [
    "while True:\n",
    "    try:\n",
    "        numQuad = int(input('Quantos quadrados você quer calcular a área? ').replace(',', '.').strip())\n",
    "    except:\n",
    "        print('Esse valor não é inteiro e positivo')\n",
    "    else:\n",
    "        if numQuad > 0:\n",
    "            for i in range(0, numQuad):\n",
    "                while True:\n",
    "                    try:\n",
    "                        ladoQ = float(input(f'Digite o lado do quadrado N° {i+1}: ').replace(',', '.').strip())\n",
    "                    except:\n",
    "                        print('Esse valor não é válido para uma unidade de medida')\n",
    "                    else:\n",
    "                        if ladoQ > 0:\n",
    "                            areaQ = ladoQ**2\n",
    "                            print(f'A área do quadrado de N° {i+1} é {areaQ:.2f}')\n",
    "                            break\n",
    "                        else:\n",
    "                            print('O valor do lado deve ser maior que 0')\n",
    "            break\n",
    "        else:\n",
    "            print('O numero de quadrados deve ser maior que 0')"
   ]
  },
  {
   "cell_type": "markdown",
   "metadata": {},
   "source": [
    "51. Faça um programa para calcular um valor A elevado a um expoente B. Os valores A e B deverão ser lidos. Não usar A** B e sim uma estrutura de repetição."
   ]
  },
  {
   "cell_type": "code",
   "execution_count": null,
   "metadata": {},
   "outputs": [],
   "source": [
    "while True:\n",
    "    try:\n",
    "        numA = int(input('Digite um valor inteiro para a base da expressão a^b: '))\n",
    "        numB = int(input('Digite um valor inteiro para o expoente da expressão a^b: '))\n",
    "    except:\n",
    "        print('Esse não é um número e inteiro')\n",
    "    else:\n",
    "        resultado = 1\n",
    "        if numA == 0 and numB == 0:\n",
    "            print('Indeterminação')\n",
    "            break\n",
    "        else:\n",
    "            if numA == 0 and numB != 0:\n",
    "                #Evitar laços de repetição e consumo de memória\n",
    "                print(f'O valor de {numA}^{numB} é 0')\n",
    "                break\n",
    "            else:\n",
    "                if numB > 0:\n",
    "                    for i in range(0, numB):\n",
    "                        resultado *= numA\n",
    "                    print(f'O valor de {numA}^{numB} é {resultado}')\n",
    "                    break\n",
    "                else:\n",
    "                    for i in range(0, numB, -1):\n",
    "                        resultado *= 1/numA\n",
    "                    print(f'O valor de {numA}^{numB} é {resultado}')\n",
    "                    break\n"
   ]
  },
  {
   "cell_type": "markdown",
   "metadata": {},
   "source": [
    "52. Sendo H = 1 + 1/2 + 1/3 + 1/4 + ... + 1/N. Faça um programa para gerar e mostrar o número H. O número N será fornecido como entrada. (série harmônica)"
   ]
  },
  {
   "cell_type": "code",
   "execution_count": null,
   "metadata": {},
   "outputs": [],
   "source": [
    "serie = 0\n",
    "print('serie H = 1 + 1/2 + 1/3 + ... 1/N')\n",
    "\n",
    "while True:\n",
    "    try:\n",
    "        termosH = int(input('Diga um número inteiro de termos para a série H: '))\n",
    "    except:\n",
    "        print('Esse valor não é um número e inteiro')\n",
    "    else:\n",
    "        if termosH > 0:    \n",
    "            for i in range(1, termosH+1):\n",
    "                serie += 1/i\n",
    "            print(f'O resultado da série é aproximadamente: {serie:.2f}')\n",
    "            break\n",
    "        else:\n",
    "            print('O número de termos da série deve ser maior que 0')"
   ]
  },
  {
   "cell_type": "markdown",
   "metadata": {},
   "source": [
    "53. Faça um programa para: \n",
    "a) Ler um valor x qualquer\n",
    "b) Calcular Y = (x+1)+(x+2)+(x+3)+(x+4)+(x+5)+…(x+100).\n"
   ]
  },
  {
   "cell_type": "code",
   "execution_count": null,
   "metadata": {},
   "outputs": [],
   "source": [
    "y = 0\n",
    "print('Y = (x+1)+(x+2)+(x+3)...+(x+100)')\n",
    "while True:\n",
    "    try:\n",
    "        numX = float(input('Digite um valor numérico para X: ').replace(',', '.').strip())\n",
    "    except:\n",
    "        print('Esse valor é inválido')\n",
    "    else:\n",
    "        for i in range(1, 101):\n",
    "            y += numX+i\n",
    "        print(f'O resultado das somas é: {y}')\n",
    "        break"
   ]
  },
  {
   "cell_type": "markdown",
   "metadata": {},
   "source": [
    "54. Fazer um programa que calcule e escreva a soma dos 50 primeiros termos da seguinte série:\n",
    "1000/1 + 997/2 + 994/3"
   ]
  },
  {
   "cell_type": "code",
   "execution_count": null,
   "metadata": {},
   "outputs": [],
   "source": [
    "termos = 50\n",
    "denominador = 1\n",
    "somatorio = 0\n",
    "\n",
    "for i in range(1000, 1000-(termos*3), -3):\n",
    "    somatorio += i/denominador\n",
    "    denominador += 1\n",
    "    \n",
    "print(f'O resultado da série foi: {somatorio}')"
   ]
  },
  {
   "cell_type": "markdown",
   "metadata": {},
   "source": [
    "55. Faça um programa que recebe o número real x como entrada e devolva uma aproximação do arco tangente de x (em radianos) através da série:\n",
    "arctan(x) = x - (x^3)/3 + (x^5)/5 - (x^7)/7 + ...\n",
    "Considere a aproximação para 50 termos."
   ]
  },
  {
   "cell_type": "code",
   "execution_count": null,
   "metadata": {},
   "outputs": [],
   "source": [
    "termos = 50\n",
    "arctan = 0\n",
    "\n",
    "while True:\n",
    "    try:\n",
    "        rad = float(input('Digite um valor X em radianos: ').replace(',', '.').strip())\n",
    "    except:\n",
    "        print('Esse valor não é valido')\n",
    "    else:\n",
    "        if rad >= -1 and rad <= 1:\n",
    "            for i in range(0, termos):\n",
    "                arctan += (-1)**i * ((rad**(2*i+1))/(2*i+1))\n",
    "            print(f'O valor aproximado do arctan({rad}) = {arctan:.5f}')\n",
    "            break\n",
    "        else:\n",
    "            if rad == 0:\n",
    "                print(f'O valor aproximado do arctan({rad}) = 0')\n",
    "                break\n",
    "            else:\n",
    "                print('A série só funciona para valores no intervalo [-1, 1]')"
   ]
  },
  {
   "cell_type": "markdown",
   "metadata": {},
   "source": [
    "56. Faça um programa que mostre os n termos da Série a seguir: \n",
    " S = 1/1 + 2/3 + 3/5 + 4/7 + 5/9 + ... + n/m. \n",
    "Imprima no final a soma da série. "
   ]
  },
  {
   "cell_type": "code",
   "execution_count": null,
   "metadata": {},
   "outputs": [],
   "source": [
    "somas = 0\n",
    "\n",
    "while True:\n",
    "    try:\n",
    "        termos = int(input('Digite quantos termos a serie deve apresentar: '))\n",
    "    except:\n",
    "        print('Esse valor não é um número e inteiro')\n",
    "    else:\n",
    "        if termos > 0:\n",
    "            for i in range(1, termos+1):\n",
    "                somas += i/(2*i-1)\n",
    "                if i != termos:\n",
    "                    print(f'{i}/{2*i-1} + ', end='')\n",
    "                else:\n",
    "                    print(f'{i}/{2*i-1}', end='')\n",
    "            print(f' = {somas}')\n",
    "            break\n",
    "        else:\n",
    "            print('A série deve ter mais de 0 termos')"
   ]
  },
  {
   "cell_type": "markdown",
   "metadata": {},
   "source": [
    "57. Cada espectador de um cinema respondeu a um questionário no qual constava sua idade e a sua opinião em relação ao filme: ótimo - 3, bom - 2, regular - 1. Faça um programa que receba a idade e a opinião de 15 espectadores, calcule e imprima:\n",
    "a) A média das idades das pessoas que responderam ótimo;\n",
    "b) A quantidade de pessoas que responderam regular;\n",
    "c) A porcentagem de pessoas que responderam bom entre todos os \n",
    "espectadores analisados."
   ]
  },
  {
   "cell_type": "code",
   "execution_count": null,
   "metadata": {},
   "outputs": [],
   "source": [
    "idadeOtimo = 0\n",
    "pessoasOtimo = 0\n",
    "pessoasRegular = 0\n",
    "pessoasBom = 0\n",
    "pessoasTotal = 15\n",
    "\n",
    "for i in range(0, pessoasTotal):\n",
    "    while True:\n",
    "        try:\n",
    "            idade = int(input('Qual é a sua idade: '))\n",
    "            opiniao = int(input('Qual sua opinião sobre o filme?\\nÓtimo - 3\\nBom - 2\\nRegular - 1:\\n'))\n",
    "        except:\n",
    "            print('Valor inválido')\n",
    "        else:\n",
    "            if opiniao >= 1 and opiniao <= 3 and idade > 0:\n",
    "                if opiniao == 3:\n",
    "                    idadeOtimo += idade\n",
    "                    pessoasOtimo += 1\n",
    "                    break\n",
    "                else:\n",
    "                    if opiniao == 2:\n",
    "                        pessoasBom += 1\n",
    "                        break\n",
    "                    else:\n",
    "                        pessoasRegular += 1\n",
    "                        break\n",
    "            else:\n",
    "                print('Valor de idade ou opinião errada')\n",
    "mediaOtimo = idadeOtimo/pessoasOtimo\n",
    "percBom = (pessoasBom/pessoasTotal)*100\n",
    "\n",
    "print(f\"\"\"\n",
    "A média das idades daqueles que responderam ótimo é: {mediaOtimo:.2f}\n",
    "A quantidade de pessoas qeu responderam regular é: {pessoasRegular}\n",
    "A porcentagem das pessoas que responderam bom é: %{percBom}\"\"\")"
   ]
  },
  {
   "cell_type": "markdown",
   "metadata": {},
   "source": [
    "58. Faça um programa que receba dois números inteiros e gere os números inteiros que estão no intervalo compreendido por eles."
   ]
  },
  {
   "cell_type": "code",
   "execution_count": null,
   "metadata": {},
   "outputs": [],
   "source": [
    "while True:\n",
    "    try:\n",
    "        intervalo1 = int(input('Digite um número inteiro para o valor de A: '))\n",
    "        intervalo2 = int(input('Digite um segundo número inteiro para o valor de B: '))\n",
    "    except:\n",
    "        print('Esse não é um número e inteiro')\n",
    "    else:\n",
    "        if intervalo1 != intervalo2:\n",
    "            if intervalo1 > intervalo2:\n",
    "                print(f'O intervalo entre [{intervalo2}, {intervalo1}] = ', end='')\n",
    "                \n",
    "                for i in range(intervalo2, intervalo1+1):\n",
    "                    if i != intervalo1:\n",
    "                        print(f'{i}, ', end='')\n",
    "                    else:\n",
    "                        print(f'{i}')\n",
    "                break\n",
    "            else:\n",
    "                print(f'O intervalo entre [{intervalo1}, {intervalo2}] = ', end='')\n",
    "                \n",
    "                for i in range(intervalo1, intervalo2+1):\n",
    "                    if i != intervalo2:\n",
    "                        print(f'{i}, ', end='')\n",
    "                    else:\n",
    "                        print(f'{i}')\n",
    "                break\n",
    "        else:\n",
    "            print(f'Não há números entre eles, logo o intervalo [A, B] é apenas = {intervalo1}')\n",
    "            break"
   ]
  },
  {
   "cell_type": "markdown",
   "metadata": {},
   "source": [
    "59. Desenvolva um gerador de tabuada, capaz de gerar a tabuada de qualquer número inteiro entre 1 a 10. O usuário deve informar de qual numero ele deseja ver a tabuada. A saída deve ser conforme o exemplo abaixo: \n",
    "Tabuada de 5:\n",
    "5 X 1 = 5\n",
    "5 X 2 = 10\n",
    "...\n",
    "5 X 10 = 50\n"
   ]
  },
  {
   "cell_type": "code",
   "execution_count": null,
   "metadata": {},
   "outputs": [],
   "source": [
    "while True:\n",
    "    try:\n",
    "        base = int(input('Escolha um número inteiro entre 1 e 10 para a tabuada: '))\n",
    "    except:\n",
    "        print('O valor não é um número e inteiro')\n",
    "    else:\n",
    "        if base >= 1 and base <= 10:\n",
    "            for i in range(1, 11):\n",
    "                print(f'{base} x {i} = {base*i}')\n",
    "            break\n",
    "        else:\n",
    "            print('O valor deve estar entre 1 e 10')"
   ]
  },
  {
   "cell_type": "markdown",
   "metadata": {},
   "source": [
    "60. Faça um programa que peça um número inteiro e determine se ele é ou não um número primo. Um número primo é aquele que é divisível somente por ele mesmo e por 1.\n"
   ]
  },
  {
   "cell_type": "code",
   "execution_count": null,
   "metadata": {},
   "outputs": [],
   "source": [
    "condicao = 0\n",
    "\n",
    "while True:\n",
    "    try:\n",
    "        primo = int(input('Digite um número: '))\n",
    "    except:\n",
    "        print('O valor não é um número e inteiro')\n",
    "    else:\n",
    "        if primo > 1:\n",
    "            for i in range(1, primo+1):\n",
    "                if primo % i == 0:\n",
    "                    print(i)\n",
    "                    condicao += 1\n",
    "\n",
    "                #evitar calculos desnecessários\n",
    "                if condicao > 2:\n",
    "                    print(f'{primo} não é primo')\n",
    "                    break\n",
    "            if condicao <= 2:\n",
    "                print(f'{primo} é primo')\n",
    "                break\n",
    "            break\n",
    "            \n",
    "        else:\n",
    "            print('Só há números primos a partir do 1')"
   ]
  },
  {
   "cell_type": "markdown",
   "metadata": {},
   "source": [
    "61. Faça um programa que peça para n pessoas a sua idade, ao final o programa devera verificar se a média de idade da turma varia entre 0 e 25, 26 e 60 e maior que 60; e então, dizer se a turma é jovem, adulta ou idosa, conforme a média calculada."
   ]
  },
  {
   "cell_type": "code",
   "execution_count": null,
   "metadata": {},
   "outputs": [],
   "source": [
    "idadeTotal = 0\n",
    "\n",
    "while True:\n",
    "    try:\n",
    "        pessoas = int(input('Quantas pessoas serão analisadas? '))\n",
    "    except:\n",
    "        print('Valor inválido')\n",
    "    else:\n",
    "        if pessoas > 0:\n",
    "            for i in range(0, pessoas):\n",
    "                while True:\n",
    "                    try:\n",
    "                        idade = int(input(f'Digite a idade da pessoa N° {i+1}: '))\n",
    "                    except:\n",
    "                        print('Valor inválido')\n",
    "                    else:\n",
    "                        if idade > 0:\n",
    "                            idadeTotal += idade\n",
    "                            break\n",
    "                        else:\n",
    "                            print('A idade deve ser maior que 0')\n",
    "            break\n",
    "        else:\n",
    "            print('O número de pessoas deve ser maior que 0')\n",
    "\n",
    "mediaIdade = idadeTotal/pessoas\n",
    "\n",
    "if mediaIdade <= 25:\n",
    "    print(f'A média das idades foi de {mediaIdade:.2f}, categorizando como juvenil')\n",
    "else:\n",
    "    if mediaIdade <= 60:\n",
    "        print(f'A média das idades foi de {mediaIdade:.2f}, categorizando como adulto')\n",
    "    else:\n",
    "        print(f'A média das idades foi de {mediaIdade:.2f}, categorizando como idoso')"
   ]
  },
  {
   "cell_type": "markdown",
   "metadata": {},
   "source": [
    "62. A série de FETUCCINE é gerada da seguinte forma: os dois primeiros termos são fornecidos pelo usuário; a partir daí, os termos são gerados com a soma ou subtração dos dois termos anteriores, ou seja:\n",
    "\n",
    "Ai = A(i-1) + A(i-2) para i par\n",
    "Ai = A(i-1) - A(i-2) para i impar\n",
    "\n",
    "Faça um programa em Python para mostrar os N primeiros termos da série de FETUCCINE, sabendo-se que para existir esta série serão necessários pelo menos três termos."
   ]
  },
  {
   "cell_type": "code",
   "execution_count": null,
   "metadata": {},
   "outputs": [],
   "source": [
    "while True:\n",
    "    try:\n",
    "        termos = int(input('Diga quantos termos a sequncia FETUCCINE terá: '))\n",
    "        termoInferior = int(input('Diga o primeiro termo da sequência FETUCCINE: '))\n",
    "        termoAnterior = int(input('Diga o segundo termo da sequência FETUCCINE: '))\n",
    "        lista = f'{termoInferior}, {termoAnterior}'\n",
    "    except:\n",
    "        print('Valor inválido')\n",
    "    else:\n",
    "        if termos >= 3:\n",
    "            for i in range(3, termos+1):\n",
    "                if i % 2 == 0:\n",
    "                    termoRecente = termoAnterior + termoInferior\n",
    "                    lista += f', {termoRecente}'\n",
    "\n",
    "                else:\n",
    "                    termoRecente = termoAnterior - termoInferior\n",
    "                    lista += f', {termoRecente}'\n",
    "\n",
    "                termoInferior, termoAnterior = termoAnterior, termoRecente\n",
    "            break\n",
    "        else:\n",
    "            print('A série deve ter pelo menos 3 termos')\n",
    "print(lista)"
   ]
  },
  {
   "cell_type": "markdown",
   "metadata": {},
   "source": [
    "63. Escreva um programa que imprima os N termos de uma Progressão Aritmética, conforme fórmula a seguir. O usuário deverá fornecer o valor de: n (número de termos), r (razão) e a1 (primeiro termo da série).\n"
   ]
  },
  {
   "cell_type": "code",
   "execution_count": null,
   "metadata": {},
   "outputs": [],
   "source": [
    "while True:\n",
    "    try:\n",
    "        termos = int(input('Diga o número de termos da sua progressão: '))\n",
    "        if termos > 0:\n",
    "            primeiroTermo = float(input('Qual é o primeiro termo dessa progresão: ').replace(',', '.').strip())\n",
    "            razao = float(input('Qual é a razão dessa progressão: ').replace(',', '.').strip())\n",
    "        else:\n",
    "            print('O número de termos deve ser maior que 0')\n",
    "    except:\n",
    "        print('Valor inválido')\n",
    "    else:\n",
    "        if termos > 0:\n",
    "            for i in range(0, termos):\n",
    "                print(f'A{i+1} = {primeiroTermo+razao*i}')\n",
    "            break"
   ]
  },
  {
   "cell_type": "markdown",
   "metadata": {},
   "source": [
    "64. O Departamento Estadual de Meteorologia lhe contratou para desenvolver um programa que leia um conjunto indeterminado de temperaturas, e informe ao final a menor e a maior temperatura informada, bem como a média das temperaturas."
   ]
  },
  {
   "cell_type": "code",
   "execution_count": null,
   "metadata": {},
   "outputs": [],
   "source": [
    "maior = None\n",
    "menor = None\n",
    "total = 0\n",
    "contador = 0\n",
    "\n",
    "while True:\n",
    "    try:\n",
    "        quantidade = int(input('Quantas temperaturas você colocará? '))\n",
    "    except:\n",
    "        print('Valor inválido')\n",
    "    else:\n",
    "        if quantidade > 0:\n",
    "            for i in range(0, quantidade):\n",
    "                while True:\n",
    "                    try:\n",
    "                        temperatura = float(input(f'Digite a {i+1}° temperatura em °C: '))\n",
    "                    except:\n",
    "                        print('Valor inválido')\n",
    "                    else:\n",
    "                        break\n",
    "\n",
    "                #condição inicial, padrão inicial de referência\n",
    "                if maior == None and menor == None:\n",
    "                    maior, menor = temperatura, temperatura\n",
    "\n",
    "                if temperatura > maior:\n",
    "                    maior = temperatura\n",
    "                else:\n",
    "                    if temperatura < menor:\n",
    "                        menor = temperatura\n",
    "\n",
    "                total += temperatura\n",
    "                contador += 1\n",
    "            break\n",
    "        else:\n",
    "            print('Essa quantidade deve ser maior que 0')\n",
    "\n",
    "\n",
    "print(f'A maior temperatura escrita foi: {maior}°C\\nA menor temperatura escrita foi: {menor}°C\\nA média das temperaturas foi: {total/contador:.2f}°C')"
   ]
  },
  {
   "cell_type": "markdown",
   "metadata": {},
   "source": [
    "65. Faça um programa que receba o valor de uma dívida e mostre uma tabela com os seguintes dados: valor da dívida, valor dos juros, quantidade de parcelas e valor da parcela. "
   ]
  },
  {
   "cell_type": "code",
   "execution_count": null,
   "metadata": {},
   "outputs": [],
   "source": [
    "while True:\n",
    "    try:\n",
    "        divida = float(input('Digite o valor da sua dívida: '))\n",
    "    except:\n",
    "        print('Valor inválido')\n",
    "    else:\n",
    "        if divida > 0:\n",
    "            print(\"\"\"\n",
    "    Valor da Dívida | Valor dos Juros | Quantidade de Parcelas | Valor da Parcela\"\"\")\n",
    "            for i in range(0, 3):\n",
    "                if i == 0:\n",
    "                    parcelas = 1\n",
    "                    juros = 0\n",
    "                else:\n",
    "                    if i == 1:\n",
    "                        parcelas = 3\n",
    "                        juros = 10/100\n",
    "                    else:\n",
    "                        parcelas = 6\n",
    "                        juros = 15/100\n",
    "                valorDivida = divida*(1+juros)\n",
    "                print(f\"\"\"\n",
    "        {valorDivida:.2f}           {juros*divida:.2f}                 {parcelas}                   {valorDivida/parcelas:.2f}\n",
    "            \"\"\")\n",
    "            break\n",
    "\n",
    "        else:\n",
    "            print('O valor da dívida deve ser maior que 0')"
   ]
  },
  {
   "cell_type": "markdown",
   "metadata": {},
   "source": [
    "66. Uma grande firma deseja saber qual é o empregado mais recente e qual é o mais antigo. Desenvolver um programa para ler um número indeterminado de informações contendo o número do empregado e o número de meses de trabalho deste empregado e imprimir o mais recente e o mais antigo. Obs.: A última informação contém os dois números iguais a zero. Não existem dois empregados admitidos no mesmo mês."
   ]
  },
  {
   "cell_type": "code",
   "execution_count": null,
   "metadata": {},
   "outputs": [],
   "source": []
  }
 ],
 "metadata": {
  "kernelspec": {
   "display_name": "Python 3",
   "language": "python",
   "name": "python3"
  },
  "language_info": {
   "codemirror_mode": {
    "name": "ipython",
    "version": 3
   },
   "file_extension": ".py",
   "mimetype": "text/x-python",
   "name": "python",
   "nbconvert_exporter": "python",
   "pygments_lexer": "ipython3",
   "version": "3.12.2"
  }
 },
 "nbformat": 4,
 "nbformat_minor": 2
}
