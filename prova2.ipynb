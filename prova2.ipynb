{
 "cells": [
  {
   "cell_type": "markdown",
   "metadata": {},
   "source": [
    "1. Faça um Programa que leia 5 números inteiros, armazene-os em uma lista."
   ]
  },
  {
   "cell_type": "code",
   "execution_count": null,
   "metadata": {},
   "outputs": [],
   "source": [
    "totalLista = 0\n",
    "listaInt = []\n",
    "\n",
    "while totalLista < 5:\n",
    "    try:\n",
    "        num = int(input('Digite um número inteiro para armazenar na lista: '))\n",
    "    except:\n",
    "        print('Não é um número e inteiro')\n",
    "    else:\n",
    "        listaInt.append(num)\n",
    "        totalLista += 1\n",
    "\n",
    "print(listaInt)"
   ]
  },
  {
   "cell_type": "markdown",
   "metadata": {},
   "source": [
    "2. Faça um Programa que leia 10 números reais e mostre-os na ordem inversa."
   ]
  },
  {
   "cell_type": "code",
   "execution_count": null,
   "metadata": {},
   "outputs": [],
   "source": [
    "totalLista = 0\n",
    "listaFloat = []\n",
    "\n",
    "while totalLista < 10:\n",
    "    try:\n",
    "        num = float(input('Digite um número para armazenar na lista: ').replace(',', '.'))\n",
    "    except:\n",
    "        print('Não é um número')\n",
    "    else:\n",
    "        listaFloat.append(num)\n",
    "        totalLista += 1\n",
    "\n",
    "print(listaFloat[::-1])"
   ]
  },
  {
   "cell_type": "markdown",
   "metadata": {},
   "source": [
    "3. Faça um Programa que leia 40 notas, mostre as notas e a média na tela."
   ]
  },
  {
   "cell_type": "code",
   "execution_count": null,
   "metadata": {},
   "outputs": [],
   "source": [
    "totalLista = 0\n",
    "listaNotas = []\n",
    "somatorioNotas = 0\n",
    "\n",
    "while totalLista < 40:\n",
    "    try:\n",
    "        nota = float(input('Digite uma nota: ').replace(',', '.'))\n",
    "    except:\n",
    "        print('Não é um número')\n",
    "    else:\n",
    "        if nota >= 0 and nota <= 10:\n",
    "            listaNotas.append(nota)\n",
    "            totalLista += 1\n",
    "        else:\n",
    "            print('Esse número deve estar entre 0 e 10')\n",
    "\n",
    "for i in listaNotas:\n",
    "    print(i)\n",
    "    somatorioNotas += i\n",
    "print(f\"Média: {(somatorioNotas/totalLista):.2f}\")"
   ]
  },
  {
   "cell_type": "markdown",
   "metadata": {},
   "source": [
    "4. Faça um Programa que leia 20 números inteiros e armazene-os numa lista. Armazene os números pares na lista PAR e os números IMPARES na lista impar. Imprima as três listas."
   ]
  },
  {
   "cell_type": "code",
   "execution_count": null,
   "metadata": {},
   "outputs": [],
   "source": [
    "totalLista = 0\n",
    "par = []\n",
    "impar = []\n",
    "\n",
    "while totalLista < 20:\n",
    "    try:\n",
    "        num = int(input('Digite um número inteiro: '))\n",
    "    except:\n",
    "        print('Não é um número e inteiro')\n",
    "    else:\n",
    "        if num >= 0:\n",
    "            if num%2 == 0:\n",
    "                par.append(num)\n",
    "            else:\n",
    "                impar.append(num)\n",
    "            totalLista += 1\n",
    "        else:\n",
    "            print('O número deve ser maior ou igual a zero')\n",
    "\n",
    "print(f'Pares: {par}\\nImpares: {impar}')"
   ]
  },
  {
   "cell_type": "markdown",
   "metadata": {},
   "source": [
    "5. Faça um Programa que peça as quatro notas de 10 alunos, calcule e armazene numa lista a média de cada aluno, imprima o número de alunos com média maior ou igual a 7.0."
   ]
  },
  {
   "cell_type": "code",
   "execution_count": null,
   "metadata": {},
   "outputs": [],
   "source": [
    "listaMedias = []\n",
    "mediasAltas = 0\n",
    "\n",
    "\n",
    "for c in range(0, 10):\n",
    "    somatorioNotas = 0\n",
    "    notasAlunos = []\n",
    "    media = 0\n",
    "    totalNotas = 0\n",
    "\n",
    "    while totalNotas < 4:\n",
    "        try:\n",
    "            nota = float(input(f'Digite a {totalNotas+1}° nota do {c+1}° aluno: ').replace(',', '.'))\n",
    "        except:\n",
    "            print('Não é um número')\n",
    "        else:\n",
    "            if nota >= 0 and nota <= 10:\n",
    "                notasAlunos.append(nota)\n",
    "                totalNotas += 1\n",
    "            else:\n",
    "                print('Esse número deve estar entre 0 e 10')\n",
    "\n",
    "    for n in notasAlunos:\n",
    "        somatorioNotas += n\n",
    "\n",
    "    media = somatorioNotas/totalNotas\n",
    "    \n",
    "    if media >= 7:\n",
    "        mediasAltas += 1\n",
    "    \n",
    "    listaMedias.append(media)\n",
    "\n",
    "print(f'O número de alunos com média maior ou igual a 7 foi: {mediasAltas}')"
   ]
  },
  {
   "cell_type": "markdown",
   "metadata": {},
   "source": [
    "6. Faça um Programa que leia e armazene 50 números inteiros, mostre a soma, a multiplicação e os números."
   ]
  },
  {
   "cell_type": "code",
   "execution_count": null,
   "metadata": {},
   "outputs": [],
   "source": [
    "totalLista = 0\n",
    "listaInt = []\n",
    "somatorio = 0\n",
    "produtorio = 1\n",
    "\n",
    "while totalLista < 50:\n",
    "    try:\n",
    "        num = int(input('Digite um número inteiro para armazenar na lista: '))\n",
    "    except:\n",
    "        print('Não é um número e inteiro')\n",
    "    else:\n",
    "        listaInt.append(num)\n",
    "        totalLista += 1\n",
    "\n",
    "for numero in listaInt:\n",
    "    somatorio += numero\n",
    "    produtorio *= numero\n",
    "print(f'O somatório dos números foi: {somatorio}\\nO produtório dos números foi: {produtorio}\\nE a lista de números foi: {listaInt}')"
   ]
  },
  {
   "cell_type": "markdown",
   "metadata": {},
   "source": [
    "7. Faça um Programa que peça a idade e a altura de 10 pessoas, armazene cada informação na sua respectiva lista. Imprima a idade da pessoa que possui maior altura."
   ]
  },
  {
   "cell_type": "code",
   "execution_count": null,
   "metadata": {},
   "outputs": [],
   "source": [
    "totalPessoas = 0\n",
    "alturas = []\n",
    "idades = []\n",
    "\n",
    "while totalPessoas < 10:\n",
    "    try:\n",
    "        idade = int(input(f'Digite a idade do {totalPessoas+1}° participante: '))\n",
    "        altura = float(input(f'Digite a altura (em metros) do {totalPessoas+1}° participante: ').replace(',', '.'))\n",
    "    except:\n",
    "        print('Escolha inválida')\n",
    "    else:\n",
    "        if idade > 0 and altura > 0:\n",
    "            idades.append(idade)\n",
    "            alturas.append(altura)\n",
    "            totalPessoas += 1\n",
    "        else:\n",
    "            print('Não se pode atribuir valores negativos')\n",
    "\n",
    "maior = max(alturas)\n",
    "idadeMaior = idades[alturas.index(maior)]\n",
    "\n",
    "print(f'A pessoa com maior altura tem {idadeMaior} anos e tem {maior}m de altura')"
   ]
  },
  {
   "cell_type": "markdown",
   "metadata": {},
   "source": [
    "8. Faça um Programa que leia uma lista A com 10 números inteiros, calcule e mostre a soma dos quadrados dos elementos do vetor."
   ]
  },
  {
   "cell_type": "code",
   "execution_count": null,
   "metadata": {},
   "outputs": [],
   "source": [
    "from math import pow\n",
    "\n",
    "totalLista = 0\n",
    "listaA = []\n",
    "somatorioQuadrados = 0\n",
    "\n",
    "while totalLista < 10:\n",
    "    try:\n",
    "        num = int(input('Digite um número inteiro para armazenar na lista: '))\n",
    "    except:\n",
    "        print('Não é um número e inteiro')\n",
    "    else:\n",
    "        listaA.append(num)\n",
    "        totalLista += 1\n",
    "for numero in listaA:\n",
    "    somatorioQuadrados += pow(numero, 2)\n",
    "\n",
    "print(somatorioQuadrados)"
   ]
  },
  {
   "cell_type": "markdown",
   "metadata": {},
   "source": [
    "9. Faça um Programa que leia duas listas com 10 elementos cada. Gere uma terceira lista de 20 elementos, cujos valores deverão ser compostos pelos elementos intercalados das duas outras listas."
   ]
  },
  {
   "cell_type": "code",
   "execution_count": null,
   "metadata": {},
   "outputs": [],
   "source": [
    "lista1 = []\n",
    "lista2 = []\n",
    "listaIntercalada = []\n",
    "\n",
    "for numLista in range(0, 2):\n",
    "    for quantidadeLista in range(0, 10):\n",
    "        elemento = input(f'Digite algum valor para ser implementado na {numLista+1}° lista: ')\n",
    "\n",
    "        if numLista == 0:\n",
    "            lista1.append(elemento)\n",
    "        else:\n",
    "            lista2.append(elemento)\n",
    "\n",
    "for i in range(0, len(lista1)):\n",
    "    listaIntercalada.append(lista1[i])\n",
    "    listaIntercalada.append(lista2[i])\n",
    "\n",
    "print(f'A lista intercalada ficou: {listaIntercalada}')"
   ]
  },
  {
   "cell_type": "markdown",
   "metadata": {},
   "source": [
    "10. Altere o programa anterior, intercalando ‘."
   ]
  },
  {
   "cell_type": "code",
   "execution_count": null,
   "metadata": {},
   "outputs": [],
   "source": [
    "lista1 = []\n",
    "lista2 = []\n",
    "lista3 = []\n",
    "listaIntercalada = []\n",
    "\n",
    "for numLista in range(0, 3):\n",
    "    for quantidadeLista in range(0, 10):\n",
    "        elemento = input(f'Digite algum valor para ser implementado na {numLista+1}° lista: ')\n",
    "\n",
    "        if numLista == 0:\n",
    "            lista1.append(elemento)\n",
    "        else:\n",
    "            if numLista == 1:\n",
    "                lista2.append(elemento)\n",
    "            else:\n",
    "                lista3.append(elemento)\n",
    "\n",
    "for i in range(0, len(lista1)):\n",
    "    listaIntercalada.append(lista1[i])\n",
    "    listaIntercalada.append(lista2[i])\n",
    "    listaIntercalada.append(lista3[i])\n",
    "\n",
    "print(f'A lista intercalada ficou: {listaIntercalada}')"
   ]
  }
 ],
 "metadata": {
  "kernelspec": {
   "display_name": "Python 3",
   "language": "python",
   "name": "python3"
  },
  "language_info": {
   "codemirror_mode": {
    "name": "ipython",
    "version": 3
   },
   "file_extension": ".py",
   "mimetype": "text/x-python",
   "name": "python",
   "nbconvert_exporter": "python",
   "pygments_lexer": "ipython3",
   "version": "3.12.2"
  }
 },
 "nbformat": 4,
 "nbformat_minor": 2
}
